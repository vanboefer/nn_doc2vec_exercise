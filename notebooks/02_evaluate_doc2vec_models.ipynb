{
 "cells": [
  {
   "cell_type": "code",
   "execution_count": 30,
   "metadata": {},
   "outputs": [],
   "source": [
    "import numpy as np\n",
    "import pandas as pd\n",
    "import gensim\n",
    "from gensim.models import Doc2Vec\n",
    "from gensim.models.doc2vec import TaggedDocument\n",
    "from yellowbrick.text import TSNEVisualizer\n",
    "\n",
    "pd.set_option('display.max_colwidth', -1)"
   ]
  },
  {
   "cell_type": "markdown",
   "metadata": {},
   "source": [
    "## Note:\n",
    "\n",
    "First, train and save a Doc2Vec model with the **doc2vec.py** script (see root directory). This notebook makes use of the resulting file."
   ]
  },
  {
   "cell_type": "markdown",
   "metadata": {},
   "source": [
    "## Load model"
   ]
  },
  {
   "cell_type": "code",
   "execution_count": 2,
   "metadata": {},
   "outputs": [],
   "source": [
    "model = Doc2Vec.load('../doc2vec_models/model_50_dm0.d2v')"
   ]
  },
  {
   "cell_type": "code",
   "execution_count": 3,
   "metadata": {},
   "outputs": [
    {
     "data": {
      "text/plain": [
       "array([ 0.15300283,  0.16383804, -0.00285844, -0.26210722, -0.71849674,\n",
       "       -0.16327691,  0.20011185,  0.20484799, -0.12235004,  0.6462099 ,\n",
       "        0.08324   ,  0.07148168,  0.15251724, -0.35326293,  0.02619456,\n",
       "        0.2539917 , -0.12822194,  0.60701096, -0.42136365, -0.6905608 ,\n",
       "        0.07682437,  0.33659455, -0.29581538,  0.31431088, -0.3822642 ,\n",
       "       -0.829622  , -0.3724858 ,  0.38496137, -0.09970851, -0.6587305 ,\n",
       "       -0.07746392,  0.10362747,  0.70499706,  0.2136463 ,  0.60218483,\n",
       "        0.02722687,  0.69824004,  0.5495405 , -0.54646087,  0.63745695,\n",
       "       -0.03050063,  0.06712776, -0.7746152 , -0.38980335,  0.22836812,\n",
       "        0.13760294, -0.36534145,  0.02489052, -0.02920261, -0.42817152],\n",
       "      dtype=float32)"
      ]
     },
     "execution_count": 3,
     "metadata": {},
     "output_type": "execute_result"
    }
   ],
   "source": [
    "# example vector\n",
    "\n",
    "model.docvecs[128]"
   ]
  },
  {
   "cell_type": "markdown",
   "metadata": {},
   "source": [
    "## Load data"
   ]
  },
  {
   "cell_type": "code",
   "execution_count": 4,
   "metadata": {},
   "outputs": [
    {
     "data": {
      "text/plain": [
       "(2427, 4)"
      ]
     },
     "execution_count": 4,
     "metadata": {},
     "output_type": "execute_result"
    }
   ],
   "source": [
    "df = pd.read_pickle('../data/all_data.pkl')\n",
    "df.shape"
   ]
  },
  {
   "cell_type": "markdown",
   "metadata": {},
   "source": [
    "## Tag data"
   ]
  },
  {
   "cell_type": "code",
   "execution_count": 5,
   "metadata": {},
   "outputs": [],
   "source": [
    "# the tokens of each doc are getting tagged with the doc's index\n",
    "\n",
    "data_tagged = df.apply(lambda x: TaggedDocument(words=x['tokens'], tags=[x.name]), axis=1)"
   ]
  },
  {
   "cell_type": "code",
   "execution_count": 6,
   "metadata": {},
   "outputs": [
    {
     "data": {
      "text/plain": [
       "TaggedDocument(words=['swackhammer', 'owner', 'amusement', 'park', 'planet', 'moron', 'mountain', 'desperate', 'get', 'new', 'attractions', 'decides', 'looney', 'tune', 'characters', 'would', 'perfect', 'sends', 'diminutive', 'underlings', 'get', 'whether', 'bugs', 'bunny', 'co.', 'want', 'go', 'well', 'armed', 'size', 'bugs', 'bunny', 'forced', 'trick', 'agreeing', 'competition', 'determine', 'freedom', 'taking', 'advantage', 'puny', 'stubby', 'legged', 'foes', 'gang', 'selects', 'basketball', 'surest', 'chance', 'winning', 'however', 'nerdlucks', 'turn', 'tables', 'steal', 'talents', 'leading', 'professional', 'basketball', 'stars', 'become', 'massive', 'basketball', 'bruisers', 'known', 'monstars', 'desperation', 'bugs', 'bunny', 'calls', 'aid', 'micheal', 'jordan', 'babe', 'ruth', 'basketball', 'help', 'chance', 'winning', 'freedom'], tags=[128])"
      ]
     },
     "execution_count": 6,
     "metadata": {},
     "output_type": "execute_result"
    }
   ],
   "source": [
    "# example\n",
    "\n",
    "data_tagged[128]"
   ]
  },
  {
   "cell_type": "markdown",
   "metadata": {},
   "source": [
    "# Evaluation: self-similarity\n",
    "\n",
    "Based on this tutorial: https://radimrehurek.com/gensim/auto_examples/tutorials/run_doc2vec_lee.html#sphx-glr-auto-examples-tutorials-run-doc2vec-lee-py\n",
    "\n",
    "We infer new vectors for each document of the corpus, compare the inferred vectors with the vectors stored in the model, and return similarity. If the model is good, we expect the inferred vector to be most similar to itself (i.e. to the original vector of the same doc from the model).\n",
    "\n",
    "NOTE: Results may vary between runs due to random seeding and the small size of the corpus"
   ]
  },
  {
   "cell_type": "code",
   "execution_count": 7,
   "metadata": {},
   "outputs": [],
   "source": [
    "def calc_sims(tagged_doc, model, topn=5):\n",
    "    \"\"\"\n",
    "    Based on the given `model`, infer a vector for the given `tagged_doc` \n",
    "    and calculate the `topn` vectors most similar to the inferred vector.\n",
    "    \n",
    "    Parameters:\n",
    "    ----------\n",
    "    tagged_doc: gensim.models.doc2vec.TaggedDocument\n",
    "    model: gensim.models.doc2vec.Doc2Vec\n",
    "    topn: int (default 5)\n",
    "    \n",
    "    Returns:\n",
    "    -------\n",
    "    List of `topn` tuples; the first element in a tuple is the tag and the second is the similarity score.\n",
    "    \"\"\"\n",
    "    inferred_vector = model.infer_vector(tagged_doc.words)\n",
    "    return model.docvecs.most_similar([inferred_vector], topn=topn)\n",
    "\n",
    "\n",
    "def store_rankings(s, model, topn=5):\n",
    "    \"\"\"\n",
    "    Apply the `calc_sims` function to a series `s` and return as dataframe of `topn` ranks.\n",
    "    \n",
    "    Parameters:\n",
    "    ----------\n",
    "    s: pandas.Series of tagged documents\n",
    "    model: gensim.models.doc2vec.Doc2Vec\n",
    "    topn: int (default 5)\n",
    "    \n",
    "    Returns:\n",
    "    -------\n",
    "    pandas.DataFrame\n",
    "    \"\"\"\n",
    "    return (\n",
    "        s.apply(calc_sims, model=model, topn=topn)\n",
    "        .to_frame()\n",
    "        .apply(lambda x: x[0], result_type='expand', axis=1)\n",
    "        .add_prefix('rank_')\n",
    "    )"
   ]
  },
  {
   "cell_type": "code",
   "execution_count": 9,
   "metadata": {},
   "outputs": [
    {
     "data": {
      "text/html": [
       "<div>\n",
       "<style scoped>\n",
       "    .dataframe tbody tr th:only-of-type {\n",
       "        vertical-align: middle;\n",
       "    }\n",
       "\n",
       "    .dataframe tbody tr th {\n",
       "        vertical-align: top;\n",
       "    }\n",
       "\n",
       "    .dataframe thead th {\n",
       "        text-align: right;\n",
       "    }\n",
       "</style>\n",
       "<table border=\"1\" class=\"dataframe\">\n",
       "  <thead>\n",
       "    <tr style=\"text-align: right;\">\n",
       "      <th></th>\n",
       "      <th>rank_0</th>\n",
       "      <th>rank_1</th>\n",
       "      <th>rank_2</th>\n",
       "      <th>rank_3</th>\n",
       "      <th>rank_4</th>\n",
       "    </tr>\n",
       "  </thead>\n",
       "  <tbody>\n",
       "    <tr>\n",
       "      <th>0</th>\n",
       "      <td>(0, 0.9470221400260925)</td>\n",
       "      <td>(1705, 0.666750431060791)</td>\n",
       "      <td>(1264, 0.6389089226722717)</td>\n",
       "      <td>(1245, 0.6380386352539062)</td>\n",
       "      <td>(2051, 0.6148450970649719)</td>\n",
       "    </tr>\n",
       "    <tr>\n",
       "      <th>1</th>\n",
       "      <td>(1, 0.9057213664054871)</td>\n",
       "      <td>(523, 0.7954731583595276)</td>\n",
       "      <td>(2118, 0.772314190864563)</td>\n",
       "      <td>(1710, 0.7673273086547852)</td>\n",
       "      <td>(470, 0.7617647051811218)</td>\n",
       "    </tr>\n",
       "    <tr>\n",
       "      <th>2</th>\n",
       "      <td>(2, 0.9305130839347839)</td>\n",
       "      <td>(573, 0.6479161977767944)</td>\n",
       "      <td>(2197, 0.6276674866676331)</td>\n",
       "      <td>(2295, 0.6154053807258606)</td>\n",
       "      <td>(2358, 0.6117849946022034)</td>\n",
       "    </tr>\n",
       "    <tr>\n",
       "      <th>3</th>\n",
       "      <td>(3, 0.9426074624061584)</td>\n",
       "      <td>(64, 0.6320438981056213)</td>\n",
       "      <td>(706, 0.6313793659210205)</td>\n",
       "      <td>(2164, 0.6265688538551331)</td>\n",
       "      <td>(794, 0.6226218342781067)</td>\n",
       "    </tr>\n",
       "    <tr>\n",
       "      <th>4</th>\n",
       "      <td>(4, 0.9173224568367004)</td>\n",
       "      <td>(1880, 0.8601465821266174)</td>\n",
       "      <td>(1791, 0.8548850417137146)</td>\n",
       "      <td>(1593, 0.854688286781311)</td>\n",
       "      <td>(2228, 0.844521164894104)</td>\n",
       "    </tr>\n",
       "  </tbody>\n",
       "</table>\n",
       "</div>"
      ],
      "text/plain": [
       "                    rank_0                      rank_1  \\\n",
       "0  (0, 0.9470221400260925)   (1705, 0.666750431060791)   \n",
       "1  (1, 0.9057213664054871)   (523, 0.7954731583595276)   \n",
       "2  (2, 0.9305130839347839)   (573, 0.6479161977767944)   \n",
       "3  (3, 0.9426074624061584)    (64, 0.6320438981056213)   \n",
       "4  (4, 0.9173224568367004)  (1880, 0.8601465821266174)   \n",
       "\n",
       "                       rank_2                      rank_3  \\\n",
       "0  (1264, 0.6389089226722717)  (1245, 0.6380386352539062)   \n",
       "1   (2118, 0.772314190864563)  (1710, 0.7673273086547852)   \n",
       "2  (2197, 0.6276674866676331)  (2295, 0.6154053807258606)   \n",
       "3   (706, 0.6313793659210205)  (2164, 0.6265688538551331)   \n",
       "4  (1791, 0.8548850417137146)   (1593, 0.854688286781311)   \n",
       "\n",
       "                       rank_4  \n",
       "0  (2051, 0.6148450970649719)  \n",
       "1   (470, 0.7617647051811218)  \n",
       "2  (2358, 0.6117849946022034)  \n",
       "3   (794, 0.6226218342781067)  \n",
       "4   (2228, 0.844521164894104)  "
      ]
     },
     "execution_count": 9,
     "metadata": {},
     "output_type": "execute_result"
    }
   ],
   "source": [
    "rankings = store_rankings(data_tagged, model)\n",
    "rankings.head()"
   ]
  },
  {
   "cell_type": "code",
   "execution_count": 11,
   "metadata": {},
   "outputs": [
    {
     "name": "stdout",
     "output_type": "stream",
     "text": [
      "rank_0\n",
      "No. of records: 2413\n",
      "% of total records: 99.4\n",
      "-------------------------------------\n",
      "rank_1\n",
      "No. of records: 11\n",
      "% of total records: 0.5\n",
      "-------------------------------------\n",
      "rank_2\n",
      "No. of records: 1\n",
      "% of total records: 0.0\n",
      "-------------------------------------\n",
      "rank_3\n",
      "No. of records: 1\n",
      "% of total records: 0.0\n",
      "-------------------------------------\n",
      "rank_4\n",
      "No. of records: 0\n",
      "% of total records: 0.0\n",
      "-------------------------------------\n"
     ]
    }
   ],
   "source": [
    "# how many records are most similar to themselves (rank_0)?\n",
    "# how many records are most similar to another record and have themselves in the second place (rank_1)?\n",
    "# etc.\n",
    "\n",
    "for col in rankings.columns:\n",
    "    n_rec = rankings.apply(lambda x: x.name == rankings.loc[x.name, col][0], axis=1).sum()\n",
    "    print(col)\n",
    "    print(f\"No. of records: {n_rec}\")\n",
    "    print(f\"% of total records: {(n_rec / len(rankings) * 100).round(1)}\")\n",
    "    print('-------------------------------------')"
   ]
  },
  {
   "cell_type": "code",
   "execution_count": 12,
   "metadata": {},
   "outputs": [
    {
     "data": {
      "text/html": [
       "<div>\n",
       "<style scoped>\n",
       "    .dataframe tbody tr th:only-of-type {\n",
       "        vertical-align: middle;\n",
       "    }\n",
       "\n",
       "    .dataframe tbody tr th {\n",
       "        vertical-align: top;\n",
       "    }\n",
       "\n",
       "    .dataframe thead th {\n",
       "        text-align: right;\n",
       "    }\n",
       "</style>\n",
       "<table border=\"1\" class=\"dataframe\">\n",
       "  <thead>\n",
       "    <tr style=\"text-align: right;\">\n",
       "      <th></th>\n",
       "      <th>rank_0</th>\n",
       "      <th>rank_1</th>\n",
       "      <th>rank_2</th>\n",
       "      <th>rank_3</th>\n",
       "      <th>rank_4</th>\n",
       "    </tr>\n",
       "  </thead>\n",
       "  <tbody>\n",
       "    <tr>\n",
       "      <th>618</th>\n",
       "      <td>(1316, 0.8920848965644836)</td>\n",
       "      <td>(618, 0.8773350715637207)</td>\n",
       "      <td>(379, 0.8477481007575989)</td>\n",
       "      <td>(1773, 0.8344392776489258)</td>\n",
       "      <td>(886, 0.829855740070343)</td>\n",
       "    </tr>\n",
       "    <tr>\n",
       "      <th>624</th>\n",
       "      <td>(2106, 0.9194527864456177)</td>\n",
       "      <td>(624, 0.9148098826408386)</td>\n",
       "      <td>(2407, 0.9072583317756653)</td>\n",
       "      <td>(1930, 0.907228946685791)</td>\n",
       "      <td>(218, 0.9032509326934814)</td>\n",
       "    </tr>\n",
       "    <tr>\n",
       "      <th>695</th>\n",
       "      <td>(2177, 0.9023805260658264)</td>\n",
       "      <td>(695, 0.891139030456543)</td>\n",
       "      <td>(35, 0.8887925148010254)</td>\n",
       "      <td>(2023, 0.8878957033157349)</td>\n",
       "      <td>(1858, 0.881065309047699)</td>\n",
       "    </tr>\n",
       "    <tr>\n",
       "      <th>814</th>\n",
       "      <td>(1913, 0.9349349141120911)</td>\n",
       "      <td>(814, 0.9308575987815857)</td>\n",
       "      <td>(2368, 0.9240738153457642)</td>\n",
       "      <td>(1729, 0.9109496474266052)</td>\n",
       "      <td>(1340, 0.906853973865509)</td>\n",
       "    </tr>\n",
       "    <tr>\n",
       "      <th>943</th>\n",
       "      <td>(704, 0.9207629561424255)</td>\n",
       "      <td>(943, 0.9135271310806274)</td>\n",
       "      <td>(2073, 0.9016027450561523)</td>\n",
       "      <td>(343, 0.901144802570343)</td>\n",
       "      <td>(892, 0.8890902996063232)</td>\n",
       "    </tr>\n",
       "    <tr>\n",
       "      <th>955</th>\n",
       "      <td>(369, 0.9352362155914307)</td>\n",
       "      <td>(955, 0.9279016852378845)</td>\n",
       "      <td>(580, 0.817357063293457)</td>\n",
       "      <td>(1940, 0.7825786471366882)</td>\n",
       "      <td>(1209, 0.7383882403373718)</td>\n",
       "    </tr>\n",
       "    <tr>\n",
       "      <th>965</th>\n",
       "      <td>(852, 0.9326182007789612)</td>\n",
       "      <td>(965, 0.9182012677192688)</td>\n",
       "      <td>(58, 0.9039827585220337)</td>\n",
       "      <td>(1235, 0.8811963200569153)</td>\n",
       "      <td>(1514, 0.8707053661346436)</td>\n",
       "    </tr>\n",
       "    <tr>\n",
       "      <th>1192</th>\n",
       "      <td>(838, 0.9563303589820862)</td>\n",
       "      <td>(1192, 0.9550573825836182)</td>\n",
       "      <td>(543, 0.9548811316490173)</td>\n",
       "      <td>(345, 0.9526835083961487)</td>\n",
       "      <td>(559, 0.9504275321960449)</td>\n",
       "    </tr>\n",
       "    <tr>\n",
       "      <th>1314</th>\n",
       "      <td>(1782, 0.9338747262954712)</td>\n",
       "      <td>(1314, 0.9271549582481384)</td>\n",
       "      <td>(1164, 0.9237922430038452)</td>\n",
       "      <td>(59, 0.9211180806159973)</td>\n",
       "      <td>(1925, 0.9194823503494263)</td>\n",
       "    </tr>\n",
       "    <tr>\n",
       "      <th>2173</th>\n",
       "      <td>(869, 0.9481752514839172)</td>\n",
       "      <td>(2173, 0.9471635222434998)</td>\n",
       "      <td>(1822, 0.9445309638977051)</td>\n",
       "      <td>(136, 0.9428654313087463)</td>\n",
       "      <td>(296, 0.9427410960197449)</td>\n",
       "    </tr>\n",
       "    <tr>\n",
       "      <th>2372</th>\n",
       "      <td>(267, 0.9088107943534851)</td>\n",
       "      <td>(2372, 0.9021258354187012)</td>\n",
       "      <td>(653, 0.873106062412262)</td>\n",
       "      <td>(1729, 0.8727834224700928)</td>\n",
       "      <td>(586, 0.8628508448600769)</td>\n",
       "    </tr>\n",
       "  </tbody>\n",
       "</table>\n",
       "</div>"
      ],
      "text/plain": [
       "                          rank_0                      rank_1  \\\n",
       "618   (1316, 0.8920848965644836)   (618, 0.8773350715637207)   \n",
       "624   (2106, 0.9194527864456177)   (624, 0.9148098826408386)   \n",
       "695   (2177, 0.9023805260658264)    (695, 0.891139030456543)   \n",
       "814   (1913, 0.9349349141120911)   (814, 0.9308575987815857)   \n",
       "943    (704, 0.9207629561424255)   (943, 0.9135271310806274)   \n",
       "955    (369, 0.9352362155914307)   (955, 0.9279016852378845)   \n",
       "965    (852, 0.9326182007789612)   (965, 0.9182012677192688)   \n",
       "1192   (838, 0.9563303589820862)  (1192, 0.9550573825836182)   \n",
       "1314  (1782, 0.9338747262954712)  (1314, 0.9271549582481384)   \n",
       "2173   (869, 0.9481752514839172)  (2173, 0.9471635222434998)   \n",
       "2372   (267, 0.9088107943534851)  (2372, 0.9021258354187012)   \n",
       "\n",
       "                          rank_2                      rank_3  \\\n",
       "618    (379, 0.8477481007575989)  (1773, 0.8344392776489258)   \n",
       "624   (2407, 0.9072583317756653)   (1930, 0.907228946685791)   \n",
       "695     (35, 0.8887925148010254)  (2023, 0.8878957033157349)   \n",
       "814   (2368, 0.9240738153457642)  (1729, 0.9109496474266052)   \n",
       "943   (2073, 0.9016027450561523)    (343, 0.901144802570343)   \n",
       "955     (580, 0.817357063293457)  (1940, 0.7825786471366882)   \n",
       "965     (58, 0.9039827585220337)  (1235, 0.8811963200569153)   \n",
       "1192   (543, 0.9548811316490173)   (345, 0.9526835083961487)   \n",
       "1314  (1164, 0.9237922430038452)    (59, 0.9211180806159973)   \n",
       "2173  (1822, 0.9445309638977051)   (136, 0.9428654313087463)   \n",
       "2372    (653, 0.873106062412262)  (1729, 0.8727834224700928)   \n",
       "\n",
       "                          rank_4  \n",
       "618     (886, 0.829855740070343)  \n",
       "624    (218, 0.9032509326934814)  \n",
       "695    (1858, 0.881065309047699)  \n",
       "814    (1340, 0.906853973865509)  \n",
       "943    (892, 0.8890902996063232)  \n",
       "955   (1209, 0.7383882403373718)  \n",
       "965   (1514, 0.8707053661346436)  \n",
       "1192   (559, 0.9504275321960449)  \n",
       "1314  (1925, 0.9194823503494263)  \n",
       "2173   (296, 0.9427410960197449)  \n",
       "2372   (586, 0.8628508448600769)  "
      ]
     },
     "execution_count": 12,
     "metadata": {},
     "output_type": "execute_result"
    }
   ],
   "source": [
    "# show rank_1 records\n",
    "\n",
    "rankings.loc[rankings.apply(lambda x: x.name == rankings.loc[x.name, 'rank_1'][0], axis=1)]"
   ]
  },
  {
   "cell_type": "markdown",
   "metadata": {},
   "source": [
    "### Examples"
   ]
  },
  {
   "cell_type": "code",
   "execution_count": 23,
   "metadata": {},
   "outputs": [
    {
     "data": {
      "text/html": [
       "<div>\n",
       "<style scoped>\n",
       "    .dataframe tbody tr th:only-of-type {\n",
       "        vertical-align: middle;\n",
       "    }\n",
       "\n",
       "    .dataframe tbody tr th {\n",
       "        vertical-align: top;\n",
       "    }\n",
       "\n",
       "    .dataframe thead th {\n",
       "        text-align: right;\n",
       "    }\n",
       "</style>\n",
       "<table border=\"1\" class=\"dataframe\">\n",
       "  <thead>\n",
       "    <tr style=\"text-align: right;\">\n",
       "      <th></th>\n",
       "      <th>movieId</th>\n",
       "      <th>plot</th>\n",
       "      <th>tag</th>\n",
       "      <th>tokens</th>\n",
       "    </tr>\n",
       "  </thead>\n",
       "  <tbody>\n",
       "    <tr>\n",
       "      <th>618</th>\n",
       "      <td>3759</td>\n",
       "      <td>Jiminy Cricket hosts two Disney animated shorts: \"Bongo,\" about a circus bear escaping to the wild, and \"Mickey and the Beanstalk,\" a take on the famous fairy tale.</td>\n",
       "      <td>animation</td>\n",
       "      <td>[jiminy, cricket, hosts, two, disney, animated, shorts, bongo, circus, bear, escaping, wild, mickey, beanstalk, take, famous, fairy, tale]</td>\n",
       "    </tr>\n",
       "    <tr>\n",
       "      <th>1316</th>\n",
       "      <td>50149</td>\n",
       "      <td>As the story begins, an alliance of evil fairy tale-doers, led by Frieda, looks to take over Fairy Tale Land and take control of. But when Ella A.K.A. Cinderella realizes her own evil stepmother is out to ruin her storybook existence, she takes a dramatic turn and blossoms into the leader of the resistance effort.</td>\n",
       "      <td>animation</td>\n",
       "      <td>[story, begins, alliance, evil, fairy, tale-doers, led, frieda, looks, take, fairy, tale, land, take, control, ella, a.k.a, cinderella, realizes, evil, stepmother, ruin, storybook, existence, takes, dramatic, turn, blossoms, leader, resistance, effort]</td>\n",
       "    </tr>\n",
       "  </tbody>\n",
       "</table>\n",
       "</div>"
      ],
      "text/plain": [
       "      movieId  \\\n",
       "618   3759      \n",
       "1316  50149     \n",
       "\n",
       "                                                                                                                                                                                                                                                                                                                             plot  \\\n",
       "618   Jiminy Cricket hosts two Disney animated shorts: \"Bongo,\" about a circus bear escaping to the wild, and \"Mickey and the Beanstalk,\" a take on the famous fairy tale.                                                                                                                                                          \n",
       "1316  As the story begins, an alliance of evil fairy tale-doers, led by Frieda, looks to take over Fairy Tale Land and take control of. But when Ella A.K.A. Cinderella realizes her own evil stepmother is out to ruin her storybook existence, she takes a dramatic turn and blossoms into the leader of the resistance effort.   \n",
       "\n",
       "            tag  \\\n",
       "618   animation   \n",
       "1316  animation   \n",
       "\n",
       "                                                                                                                                                                                                                                                            tokens  \n",
       "618   [jiminy, cricket, hosts, two, disney, animated, shorts, bongo, circus, bear, escaping, wild, mickey, beanstalk, take, famous, fairy, tale]                                                                                                                    \n",
       "1316  [story, begins, alliance, evil, fairy, tale-doers, led, frieda, looks, take, fairy, tale, land, take, control, ella, a.k.a, cinderella, realizes, evil, stepmother, ruin, storybook, existence, takes, dramatic, turn, blossoms, leader, resistance, effort]  "
      ]
     },
     "execution_count": 23,
     "metadata": {},
     "output_type": "execute_result"
    }
   ],
   "source": [
    "# 618 is most similar to 1316 (and not to itself)\n",
    "\n",
    "df.loc[(df.index == 618) | (df.index == 1316)]"
   ]
  },
  {
   "cell_type": "code",
   "execution_count": 25,
   "metadata": {},
   "outputs": [
    {
     "data": {
      "text/html": [
       "<div>\n",
       "<style scoped>\n",
       "    .dataframe tbody tr th:only-of-type {\n",
       "        vertical-align: middle;\n",
       "    }\n",
       "\n",
       "    .dataframe tbody tr th {\n",
       "        vertical-align: top;\n",
       "    }\n",
       "\n",
       "    .dataframe thead th {\n",
       "        text-align: right;\n",
       "    }\n",
       "</style>\n",
       "<table border=\"1\" class=\"dataframe\">\n",
       "  <thead>\n",
       "    <tr style=\"text-align: right;\">\n",
       "      <th></th>\n",
       "      <th>movieId</th>\n",
       "      <th>plot</th>\n",
       "      <th>tag</th>\n",
       "      <th>tokens</th>\n",
       "    </tr>\n",
       "  </thead>\n",
       "  <tbody>\n",
       "    <tr>\n",
       "      <th>852</th>\n",
       "      <td>5974</td>\n",
       "      <td>Prince Ahmad is the rightful King of Bagdad but he has been blinded and cast out as a beggar. Now a captive of the wicked Grand Vizier Jaffar he is cast into a dungeon where he meets Abu, the best thief in all Bagdad. Together they escape and set about a series of adventures that involve a Djinni in a bottle, a mechanical flying horse, an all-seeing magic jewel, a flying carpet and a beautiful princess.</td>\n",
       "      <td>fantasy</td>\n",
       "      <td>[prince, ahmad, rightful, king, bagdad, blinded, cast, beggar, captive, wicked, grand, vizier, jaffar, cast, dungeon, meets, abu, best, thief, bagdad, together, escape, set, series, adventures, involve, djinni, bottle, mechanical, flying, horse, all-seeing, magic, jewel, flying, carpet, beautiful, princess]</td>\n",
       "    </tr>\n",
       "    <tr>\n",
       "      <th>965</th>\n",
       "      <td>7302</td>\n",
       "      <td>A recalcitrant thief vies with a duplicitous Mongol ruler for the hand of a beautiful princess.</td>\n",
       "      <td>fantasy</td>\n",
       "      <td>[recalcitrant, thief, vies, duplicitous, mongol, ruler, hand, beautiful, princess]</td>\n",
       "    </tr>\n",
       "  </tbody>\n",
       "</table>\n",
       "</div>"
      ],
      "text/plain": [
       "     movieId  \\\n",
       "852  5974      \n",
       "965  7302      \n",
       "\n",
       "                                                                                                                                                                                                                                                                                                                                                                                                                       plot  \\\n",
       "852  Prince Ahmad is the rightful King of Bagdad but he has been blinded and cast out as a beggar. Now a captive of the wicked Grand Vizier Jaffar he is cast into a dungeon where he meets Abu, the best thief in all Bagdad. Together they escape and set about a series of adventures that involve a Djinni in a bottle, a mechanical flying horse, an all-seeing magic jewel, a flying carpet and a beautiful princess.   \n",
       "965  A recalcitrant thief vies with a duplicitous Mongol ruler for the hand of a beautiful princess.                                                                                                                                                                                                                                                                                                                          \n",
       "\n",
       "         tag  \\\n",
       "852  fantasy   \n",
       "965  fantasy   \n",
       "\n",
       "                                                                                                                                                                                                                                                                                                                   tokens  \n",
       "852  [prince, ahmad, rightful, king, bagdad, blinded, cast, beggar, captive, wicked, grand, vizier, jaffar, cast, dungeon, meets, abu, best, thief, bagdad, together, escape, set, series, adventures, involve, djinni, bottle, mechanical, flying, horse, all-seeing, magic, jewel, flying, carpet, beautiful, princess]  \n",
       "965  [recalcitrant, thief, vies, duplicitous, mongol, ruler, hand, beautiful, princess]                                                                                                                                                                                                                                    "
      ]
     },
     "execution_count": 25,
     "metadata": {},
     "output_type": "execute_result"
    }
   ],
   "source": [
    "# 965 is most similar to 852 (and not to itself)\n",
    "\n",
    "df.loc[(df.index == 965) | (df.index == 852)]"
   ]
  },
  {
   "cell_type": "markdown",
   "metadata": {},
   "source": [
    "# t-SNE visualization"
   ]
  },
  {
   "cell_type": "code",
   "execution_count": 99,
   "metadata": {},
   "outputs": [],
   "source": [
    "# sample 100 examples of each genre from the data\n",
    "# (the sampling is done to make the visualization clearer; too many data points make the plot too dense to see the colors)\n",
    "\n",
    "s_vec = pd.Series([model.docvecs[doc.tags[0]] for doc in data_tagged], index=[doc.tags[0] for doc in data_tagged], name='vector')\n",
    "samp_df = (\n",
    "    pd.concat([s_vec, df.tag], axis=1)\n",
    "    .groupby('tag')\n",
    "    .apply(lambda x: x.sample(100))\n",
    "    .reset_index(level=0, drop=True)\n",
    ")"
   ]
  },
  {
   "cell_type": "code",
   "execution_count": 113,
   "metadata": {},
   "outputs": [
    {
     "name": "stderr",
     "output_type": "stream",
     "text": [
      "'c' argument looks like a single numeric RGB or RGBA sequence, which should be avoided as value-mapping will have precedence in case its length matches with 'x' & 'y'.  Please use a 2-D array with a single row if you really want to specify the same RGB or RGBA value for all points.\n",
      "'c' argument looks like a single numeric RGB or RGBA sequence, which should be avoided as value-mapping will have precedence in case its length matches with 'x' & 'y'.  Please use a 2-D array with a single row if you really want to specify the same RGB or RGBA value for all points.\n",
      "'c' argument looks like a single numeric RGB or RGBA sequence, which should be avoided as value-mapping will have precedence in case its length matches with 'x' & 'y'.  Please use a 2-D array with a single row if you really want to specify the same RGB or RGBA value for all points.\n",
      "'c' argument looks like a single numeric RGB or RGBA sequence, which should be avoided as value-mapping will have precedence in case its length matches with 'x' & 'y'.  Please use a 2-D array with a single row if you really want to specify the same RGB or RGBA value for all points.\n",
      "'c' argument looks like a single numeric RGB or RGBA sequence, which should be avoided as value-mapping will have precedence in case its length matches with 'x' & 'y'.  Please use a 2-D array with a single row if you really want to specify the same RGB or RGBA value for all points.\n",
      "'c' argument looks like a single numeric RGB or RGBA sequence, which should be avoided as value-mapping will have precedence in case its length matches with 'x' & 'y'.  Please use a 2-D array with a single row if you really want to specify the same RGB or RGBA value for all points.\n"
     ]
    },
    {
     "data": {
      "text/plain": [
       "<matplotlib.axes._subplots.AxesSubplot at 0x147071f3188>"
      ]
     },
     "execution_count": 113,
     "metadata": {},
     "output_type": "execute_result"
    },
    {
     "data": {
      "image/png": "[encoded data removed]",
      "text/plain": [
       "<Figure size 576x396 with 1 Axes>"
      ]
     },
     "metadata": {},
     "output_type": "display_data"
    }
   ],
   "source": [
    "X = np.array([vec for vec in samp_df.vector])\n",
    "y = samp_df.tag\n",
    "\n",
    "tsne = TSNEVisualizer(decompose_by=30)\n",
    "tsne.fit(X, y)\n",
    "tsne.show(outpath='../results/tsne.png')"
   ]
  },
  {
   "cell_type": "code",
   "execution_count": null,
   "metadata": {},
   "outputs": [],
   "source": []
  }
 ],
 "metadata": {
  "kernelspec": {
   "display_name": "my_nn",
   "language": "python",
   "name": "my_nn"
  },
  "language_info": {
   "codemirror_mode": {
    "name": "ipython",
    "version": 3
   },
   "file_extension": ".py",
   "mimetype": "text/x-python",
   "name": "python",
   "nbconvert_exporter": "python",
   "pygments_lexer": "ipython3",
   "version": "3.7.6"
  }
 },
 "nbformat": 4,
 "nbformat_minor": 4
}
