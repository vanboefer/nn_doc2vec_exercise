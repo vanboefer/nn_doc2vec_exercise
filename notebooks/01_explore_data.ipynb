{
 "cells": [
  {
   "cell_type": "code",
   "execution_count": 1,
   "metadata": {},
   "outputs": [],
   "source": [
    "from collections import Counter\n",
    "import pandas as pd"
   ]
  },
  {
   "cell_type": "markdown",
   "metadata": {},
   "source": [
    "## Note:\n",
    "\n",
    "First, pre-process the raw data with the **preprocess.py** script (see root directory). This notebook makes use of the resulting pkl file."
   ]
  },
  {
   "cell_type": "markdown",
   "metadata": {},
   "source": [
    "## Load data"
   ]
  },
  {
   "cell_type": "code",
   "execution_count": 2,
   "metadata": {},
   "outputs": [
    {
     "data": {
      "text/plain": [
       "(2427, 4)"
      ]
     },
     "execution_count": 2,
     "metadata": {},
     "output_type": "execute_result"
    }
   ],
   "source": [
    "df = pd.read_pickle('../data/all_data.pkl')\n",
    "df.shape"
   ]
  },
  {
   "cell_type": "code",
   "execution_count": 3,
   "metadata": {},
   "outputs": [
    {
     "data": {
      "text/html": [
       "<div>\n",
       "<style scoped>\n",
       "    .dataframe tbody tr th:only-of-type {\n",
       "        vertical-align: middle;\n",
       "    }\n",
       "\n",
       "    .dataframe tbody tr th {\n",
       "        vertical-align: top;\n",
       "    }\n",
       "\n",
       "    .dataframe thead th {\n",
       "        text-align: right;\n",
       "    }\n",
       "</style>\n",
       "<table border=\"1\" class=\"dataframe\">\n",
       "  <thead>\n",
       "    <tr style=\"text-align: right;\">\n",
       "      <th></th>\n",
       "      <th>movieId</th>\n",
       "      <th>plot</th>\n",
       "      <th>tag</th>\n",
       "      <th>tokens</th>\n",
       "    </tr>\n",
       "  </thead>\n",
       "  <tbody>\n",
       "    <tr>\n",
       "      <th>0</th>\n",
       "      <td>1</td>\n",
       "      <td>A little boy named Andy loves to be in his roo...</td>\n",
       "      <td>animation</td>\n",
       "      <td>[little, boy, named, andy, loves, room, playin...</td>\n",
       "    </tr>\n",
       "    <tr>\n",
       "      <th>1</th>\n",
       "      <td>2</td>\n",
       "      <td>When two kids find and play a magical board ga...</td>\n",
       "      <td>fantasy</td>\n",
       "      <td>[two, kids, find, play, magical, board, game, ...</td>\n",
       "    </tr>\n",
       "    <tr>\n",
       "      <th>2</th>\n",
       "      <td>3</td>\n",
       "      <td>Things don't seem to change much in Wabasha Co...</td>\n",
       "      <td>comedy</td>\n",
       "      <td>[things, seem, change, much, wabasha, county, ...</td>\n",
       "    </tr>\n",
       "    <tr>\n",
       "      <th>3</th>\n",
       "      <td>6</td>\n",
       "      <td>Hunters and their prey--Neil and his professio...</td>\n",
       "      <td>action</td>\n",
       "      <td>[hunters, prey, neil, professional, criminal, ...</td>\n",
       "    </tr>\n",
       "    <tr>\n",
       "      <th>4</th>\n",
       "      <td>7</td>\n",
       "      <td>An ugly duckling having undergone a remarkable...</td>\n",
       "      <td>romance</td>\n",
       "      <td>[ugly, duckling, undergone, remarkable, change...</td>\n",
       "    </tr>\n",
       "  </tbody>\n",
       "</table>\n",
       "</div>"
      ],
      "text/plain": [
       "   movieId                                               plot        tag  \\\n",
       "0        1  A little boy named Andy loves to be in his roo...  animation   \n",
       "1        2  When two kids find and play a magical board ga...    fantasy   \n",
       "2        3  Things don't seem to change much in Wabasha Co...     comedy   \n",
       "3        6  Hunters and their prey--Neil and his professio...     action   \n",
       "4        7  An ugly duckling having undergone a remarkable...    romance   \n",
       "\n",
       "                                              tokens  \n",
       "0  [little, boy, named, andy, loves, room, playin...  \n",
       "1  [two, kids, find, play, magical, board, game, ...  \n",
       "2  [things, seem, change, much, wabasha, county, ...  \n",
       "3  [hunters, prey, neil, professional, criminal, ...  \n",
       "4  [ugly, duckling, undergone, remarkable, change...  "
      ]
     },
     "execution_count": 3,
     "metadata": {},
     "output_type": "execute_result"
    }
   ],
   "source": [
    "df.head()"
   ]
  },
  {
   "cell_type": "markdown",
   "metadata": {},
   "source": [
    "## Class distribution"
   ]
  },
  {
   "cell_type": "code",
   "execution_count": 4,
   "metadata": {},
   "outputs": [
    {
     "data": {
      "text/plain": [
       "comedy       780\n",
       "action       437\n",
       "romance      380\n",
       "sci-fi       352\n",
       "animation    283\n",
       "fantasy      195\n",
       "Name: tag, dtype: int64"
      ]
     },
     "execution_count": 4,
     "metadata": {},
     "output_type": "execute_result"
    }
   ],
   "source": [
    "df.tag.value_counts()"
   ]
  },
  {
   "cell_type": "markdown",
   "metadata": {},
   "source": [
    "## Text lenghts"
   ]
  },
  {
   "cell_type": "code",
   "execution_count": 5,
   "metadata": {},
   "outputs": [
    {
     "data": {
      "text/plain": [
       "tag\n",
       "action       38.5\n",
       "animation    37.0\n",
       "comedy       37.1\n",
       "fantasy      42.1\n",
       "romance      42.7\n",
       "sci-fi       39.0\n",
       "Name: n_tokens, dtype: float64"
      ]
     },
     "execution_count": 5,
     "metadata": {},
     "output_type": "execute_result"
    }
   ],
   "source": [
    "df['n_tokens'] = df.tokens.apply(len)\n",
    "df.groupby('tag').n_tokens.mean().round(1)"
   ]
  },
  {
   "cell_type": "markdown",
   "metadata": {},
   "source": [
    "## Most frequent words"
   ]
  },
  {
   "cell_type": "code",
   "execution_count": 6,
   "metadata": {},
   "outputs": [],
   "source": [
    "def get_wordcounts(df, tag, topn=10):\n",
    "    counts = Counter()\n",
    "    lists_of_tokens = df.query(f\"tag == @tag\").tokens\n",
    "    for tokenlist in lists_of_tokens:\n",
    "        for token in tokenlist:\n",
    "            counts[token] += 1\n",
    "    cols = pd.MultiIndex.from_product([[tag], ['token', 'count']])\n",
    "    return pd.DataFrame(counts.most_common(topn), columns=cols)"
   ]
  },
  {
   "cell_type": "code",
   "execution_count": 7,
   "metadata": {},
   "outputs": [
    {
     "data": {
      "text/html": [
       "<div>\n",
       "<style scoped>\n",
       "    .dataframe tbody tr th:only-of-type {\n",
       "        vertical-align: middle;\n",
       "    }\n",
       "\n",
       "    .dataframe tbody tr th {\n",
       "        vertical-align: top;\n",
       "    }\n",
       "\n",
       "    .dataframe thead tr th {\n",
       "        text-align: left;\n",
       "    }\n",
       "</style>\n",
       "<table border=\"1\" class=\"dataframe\">\n",
       "  <thead>\n",
       "    <tr>\n",
       "      <th></th>\n",
       "      <th colspan=\"2\" halign=\"left\">animation</th>\n",
       "      <th colspan=\"2\" halign=\"left\">fantasy</th>\n",
       "      <th colspan=\"2\" halign=\"left\">comedy</th>\n",
       "      <th colspan=\"2\" halign=\"left\">action</th>\n",
       "      <th colspan=\"2\" halign=\"left\">romance</th>\n",
       "      <th colspan=\"2\" halign=\"left\">sci-fi</th>\n",
       "    </tr>\n",
       "    <tr>\n",
       "      <th></th>\n",
       "      <th>token</th>\n",
       "      <th>count</th>\n",
       "      <th>token</th>\n",
       "      <th>count</th>\n",
       "      <th>token</th>\n",
       "      <th>count</th>\n",
       "      <th>token</th>\n",
       "      <th>count</th>\n",
       "      <th>token</th>\n",
       "      <th>count</th>\n",
       "      <th>token</th>\n",
       "      <th>count</th>\n",
       "    </tr>\n",
       "  </thead>\n",
       "  <tbody>\n",
       "    <tr>\n",
       "      <th>0</th>\n",
       "      <td>world</td>\n",
       "      <td>68</td>\n",
       "      <td>world</td>\n",
       "      <td>53</td>\n",
       "      <td>life</td>\n",
       "      <td>177</td>\n",
       "      <td>one</td>\n",
       "      <td>96</td>\n",
       "      <td>love</td>\n",
       "      <td>160</td>\n",
       "      <td>earth</td>\n",
       "      <td>112</td>\n",
       "    </tr>\n",
       "    <tr>\n",
       "      <th>1</th>\n",
       "      <td>young</td>\n",
       "      <td>63</td>\n",
       "      <td>one</td>\n",
       "      <td>41</td>\n",
       "      <td>one</td>\n",
       "      <td>160</td>\n",
       "      <td>man</td>\n",
       "      <td>79</td>\n",
       "      <td>life</td>\n",
       "      <td>138</td>\n",
       "      <td>world</td>\n",
       "      <td>86</td>\n",
       "    </tr>\n",
       "    <tr>\n",
       "      <th>2</th>\n",
       "      <td>new</td>\n",
       "      <td>51</td>\n",
       "      <td>must</td>\n",
       "      <td>41</td>\n",
       "      <td>new</td>\n",
       "      <td>153</td>\n",
       "      <td>new</td>\n",
       "      <td>73</td>\n",
       "      <td>one</td>\n",
       "      <td>94</td>\n",
       "      <td>one</td>\n",
       "      <td>84</td>\n",
       "    </tr>\n",
       "    <tr>\n",
       "      <th>3</th>\n",
       "      <td>named</td>\n",
       "      <td>45</td>\n",
       "      <td>young</td>\n",
       "      <td>40</td>\n",
       "      <td>man</td>\n",
       "      <td>125</td>\n",
       "      <td>life</td>\n",
       "      <td>68</td>\n",
       "      <td>young</td>\n",
       "      <td>87</td>\n",
       "      <td>alien</td>\n",
       "      <td>77</td>\n",
       "    </tr>\n",
       "    <tr>\n",
       "      <th>4</th>\n",
       "      <td>one</td>\n",
       "      <td>45</td>\n",
       "      <td>life</td>\n",
       "      <td>40</td>\n",
       "      <td>two</td>\n",
       "      <td>121</td>\n",
       "      <td>must</td>\n",
       "      <td>66</td>\n",
       "      <td>new</td>\n",
       "      <td>74</td>\n",
       "      <td>planet</td>\n",
       "      <td>76</td>\n",
       "    </tr>\n",
       "    <tr>\n",
       "      <th>5</th>\n",
       "      <td>must</td>\n",
       "      <td>42</td>\n",
       "      <td>evil</td>\n",
       "      <td>38</td>\n",
       "      <td>get</td>\n",
       "      <td>119</td>\n",
       "      <td>find</td>\n",
       "      <td>63</td>\n",
       "      <td>woman</td>\n",
       "      <td>71</td>\n",
       "      <td>new</td>\n",
       "      <td>71</td>\n",
       "    </tr>\n",
       "    <tr>\n",
       "      <th>6</th>\n",
       "      <td>get</td>\n",
       "      <td>39</td>\n",
       "      <td>king</td>\n",
       "      <td>34</td>\n",
       "      <td>find</td>\n",
       "      <td>102</td>\n",
       "      <td>agent</td>\n",
       "      <td>58</td>\n",
       "      <td>man</td>\n",
       "      <td>69</td>\n",
       "      <td>future</td>\n",
       "      <td>68</td>\n",
       "    </tr>\n",
       "    <tr>\n",
       "      <th>7</th>\n",
       "      <td>two</td>\n",
       "      <td>39</td>\n",
       "      <td>father</td>\n",
       "      <td>34</td>\n",
       "      <td>family</td>\n",
       "      <td>94</td>\n",
       "      <td>world</td>\n",
       "      <td>54</td>\n",
       "      <td>two</td>\n",
       "      <td>67</td>\n",
       "      <td>find</td>\n",
       "      <td>66</td>\n",
       "    </tr>\n",
       "    <tr>\n",
       "      <th>8</th>\n",
       "      <td>life</td>\n",
       "      <td>37</td>\n",
       "      <td>family</td>\n",
       "      <td>31</td>\n",
       "      <td>father</td>\n",
       "      <td>94</td>\n",
       "      <td>young</td>\n",
       "      <td>53</td>\n",
       "      <td>time</td>\n",
       "      <td>56</td>\n",
       "      <td>human</td>\n",
       "      <td>52</td>\n",
       "    </tr>\n",
       "    <tr>\n",
       "      <th>9</th>\n",
       "      <td>boy</td>\n",
       "      <td>36</td>\n",
       "      <td>find</td>\n",
       "      <td>30</td>\n",
       "      <td>young</td>\n",
       "      <td>88</td>\n",
       "      <td>team</td>\n",
       "      <td>50</td>\n",
       "      <td>finds</td>\n",
       "      <td>55</td>\n",
       "      <td>life</td>\n",
       "      <td>49</td>\n",
       "    </tr>\n",
       "  </tbody>\n",
       "</table>\n",
       "</div>"
      ],
      "text/plain": [
       "  animation       fantasy        comedy       action       romance        \\\n",
       "      token count   token count   token count  token count   token count   \n",
       "0     world    68   world    53    life   177    one    96    love   160   \n",
       "1     young    63     one    41     one   160    man    79    life   138   \n",
       "2       new    51    must    41     new   153    new    73     one    94   \n",
       "3     named    45   young    40     man   125   life    68   young    87   \n",
       "4       one    45    life    40     two   121   must    66     new    74   \n",
       "5      must    42    evil    38     get   119   find    63   woman    71   \n",
       "6       get    39    king    34    find   102  agent    58     man    69   \n",
       "7       two    39  father    34  family    94  world    54     two    67   \n",
       "8      life    37  family    31  father    94  young    53    time    56   \n",
       "9       boy    36    find    30   young    88   team    50   finds    55   \n",
       "\n",
       "   sci-fi        \n",
       "    token count  \n",
       "0   earth   112  \n",
       "1   world    86  \n",
       "2     one    84  \n",
       "3   alien    77  \n",
       "4  planet    76  \n",
       "5     new    71  \n",
       "6  future    68  \n",
       "7    find    66  \n",
       "8   human    52  \n",
       "9    life    49  "
      ]
     },
     "execution_count": 7,
     "metadata": {},
     "output_type": "execute_result"
    }
   ],
   "source": [
    "def make_topn_table(df, topn=10):\n",
    "    return pd.concat(\n",
    "        [get_wordcounts(df, tag, topn=topn) for tag in df.tag.unique()], axis=1\n",
    "    )\n",
    "    \n",
    "table = make_topn_table(df)\n",
    "table"
   ]
  },
  {
   "cell_type": "code",
   "execution_count": 8,
   "metadata": {},
   "outputs": [
    {
     "name": "stdout",
     "output_type": "stream",
     "text": [
      "\\begin{table}\n",
      "\\caption{Top 10 tokens by genre}\n",
      "\\label{tab:tab:top_10_tokens}\n",
      "\\makebox[\\textwidth][c]{\n",
      "\\begin{tabular}{lrlrlrlrlrlr}\n",
      "\\toprule\n",
      "animation & \\multicolumn{2}{l}{fantasy} & \\multicolumn{2}{l}{comedy} & \\multicolumn{2}{l}{action} & \\multicolumn{2}{l}{romance} & \\multicolumn{2}{l}{sci-fi} \\\\\n",
      "    token & count &   token & count &   token & count &  token & count &   token & count &   token & count \\\\\n",
      "\\midrule\n",
      "    world &    68 &   world &    53 &    life &   177 &    one &    96 &    love &   160 &   earth &   112 \\\\\n",
      "    young &    63 &     one &    41 &     one &   160 &    man &    79 &    life &   138 &   world &    86 \\\\\n",
      "      new &    51 &    must &    41 &     new &   153 &    new &    73 &     one &    94 &     one &    84 \\\\\n",
      "    named &    45 &   young &    40 &     man &   125 &   life &    68 &   young &    87 &   alien &    77 \\\\\n",
      "      one &    45 &    life &    40 &     two &   121 &   must &    66 &     new &    74 &  planet &    76 \\\\\n",
      "     must &    42 &    evil &    38 &     get &   119 &   find &    63 &   woman &    71 &     new &    71 \\\\\n",
      "      get &    39 &    king &    34 &    find &   102 &  agent &    58 &     man &    69 &  future &    68 \\\\\n",
      "      two &    39 &  father &    34 &  family &    94 &  world &    54 &     two &    67 &    find &    66 \\\\\n",
      "     life &    37 &  family &    31 &  father &    94 &  young &    53 &    time &    56 &   human &    52 \\\\\n",
      "      boy &    36 &    find &    30 &   young &    88 &   team &    50 &   finds &    55 &    life &    49 \\\\\n",
      "\\bottomrule\n",
      "\\end{tabular}\n",
      "}\n",
      "\\end{table}\n",
      "\n"
     ]
    }
   ],
   "source": [
    "# convert table to latex format\n",
    "\n",
    "latex = table.to_latex(index=False, multicolumn=True)\n",
    "caption = \"Top 10 tokens by genre\"\n",
    "label = \"tab:top_10_tokens\"\n",
    "\n",
    "super_latex = (\n",
    "    \"\\\\begin{table}\\n\"\n",
    "    f\"\\caption{{{caption}}}\\n\"\n",
    "    f\"\\label{{tab:{label}}}\\n\"\n",
    "    \"\\makebox[\\\\textwidth][c]{\\n\"\n",
    "    f\"{latex}\"\n",
    "    \"}\\n\"\n",
    "    \"\\end{table}\\n\"\n",
    ")\n",
    "\n",
    "print(super_latex)"
   ]
  }
 ],
 "metadata": {
  "kernelspec": {
   "display_name": "my_nn",
   "language": "python",
   "name": "my_nn"
  },
  "language_info": {
   "codemirror_mode": {
    "name": "ipython",
    "version": 3
   },
   "file_extension": ".py",
   "mimetype": "text/x-python",
   "name": "python",
   "nbconvert_exporter": "python",
   "pygments_lexer": "ipython3",
   "version": "3.7.6"
  }
 },
 "nbformat": 4,
 "nbformat_minor": 4
}
